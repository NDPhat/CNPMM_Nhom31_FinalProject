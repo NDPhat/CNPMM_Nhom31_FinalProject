{
 "cells": [
  {
   "cell_type": "code",
   "execution_count": 3,
   "metadata": {},
   "outputs": [
    {
     "name": "stdout",
     "output_type": "stream",
     "text": [
      "Requirement already satisfied: face_recognition in /home/duong/anaconda3/envs/vinbigdata/lib/python3.8/site-packages (1.3.0)\n",
      "Requirement already satisfied: dlib>=19.7 in /home/duong/anaconda3/envs/vinbigdata/lib/python3.8/site-packages (from face_recognition) (19.24.0)\n",
      "Requirement already satisfied: Click>=6.0 in /home/duong/anaconda3/envs/vinbigdata/lib/python3.8/site-packages (from face_recognition) (8.1.3)\n",
      "Requirement already satisfied: Pillow in /home/duong/anaconda3/envs/vinbigdata/lib/python3.8/site-packages (from face_recognition) (9.1.0)\n",
      "Requirement already satisfied: face-recognition-models>=0.3.0 in /home/duong/anaconda3/envs/vinbigdata/lib/python3.8/site-packages (from face_recognition) (0.3.0)\n",
      "Requirement already satisfied: numpy in /home/duong/anaconda3/envs/vinbigdata/lib/python3.8/site-packages (from face_recognition) (1.23.2)\n"
     ]
    }
   ],
   "source": [
    "!pip install face_recognition"
   ]
  },
  {
   "cell_type": "code",
   "execution_count": 1,
   "metadata": {},
   "outputs": [],
   "source": [
    "import face_recognition"
   ]
  },
  {
   "cell_type": "code",
   "execution_count": 2,
   "metadata": {},
   "outputs": [],
   "source": [
    "known_image = face_recognition.load_image_file(\"image/1.jpg\")\n",
    "unknown_image = face_recognition.load_image_file(\"image/2.jpg\")\n",
    "\n",
    "biden_encoding = face_recognition.face_encodings(known_image)[0]\n",
    "unknown_encoding = face_recognition.face_encodings(unknown_image)[0]\n",
    "\n",
    "results = face_recognition.compare_faces([biden_encoding], unknown_encoding)"
   ]
  },
  {
   "cell_type": "code",
   "execution_count": 3,
   "metadata": {},
   "outputs": [
    {
     "data": {
      "text/plain": [
       "[False]"
      ]
     },
     "execution_count": 3,
     "metadata": {},
     "output_type": "execute_result"
    }
   ],
   "source": [
    "results"
   ]
  },
  {
   "cell_type": "code",
   "execution_count": null,
   "metadata": {},
   "outputs": [],
   "source": []
  }
 ],
 "metadata": {
  "kernelspec": {
   "display_name": "Python 3.8.0 ('vinbigdata')",
   "language": "python",
   "name": "python3"
  },
  "language_info": {
   "codemirror_mode": {
    "name": "ipython",
    "version": 3
   },
   "file_extension": ".py",
   "mimetype": "text/x-python",
   "name": "python",
   "nbconvert_exporter": "python",
   "pygments_lexer": "ipython3",
   "version": "3.8.0"
  },
  "orig_nbformat": 4,
  "vscode": {
   "interpreter": {
    "hash": "6b103aa0a66613fb2379ba6387c11600f6e3e182af4e47d60eb2f8682a2f38fc"
   }
  }
 },
 "nbformat": 4,
 "nbformat_minor": 2
}
